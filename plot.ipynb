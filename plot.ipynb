import Magnetization_Plot as MP

file=np.loadtxt("Film100100.txt")
f(file)

